{
 "cells": [
  {
   "cell_type": "code",
   "execution_count": 24,
   "id": "ce4a01a0",
   "metadata": {},
   "outputs": [],
   "source": [
    "import glob\n",
    "from langchain_community.document_loaders import UnstructuredMarkdownLoader\n",
    "from langchain_core.documents import Document\n"
   ]
  },
  {
   "cell_type": "code",
   "execution_count": 25,
   "id": "3666652d",
   "metadata": {},
   "outputs": [],
   "source": [
    "persist_directory = r'./chroma_courses_db'\n",
    "# Path to all .md files in the folder\n",
    "markdown_path = \"CourseInfo/OnlineCourses.md\"\n",
    "loader = UnstructuredMarkdownLoader(markdown_path)"
   ]
  },
  {
   "cell_type": "code",
   "execution_count": 26,
   "id": "aa163f6b",
   "metadata": {},
   "outputs": [
    {
     "name": "stdout",
     "output_type": "stream",
     "text": [
      "Course Name: 2. Master Filmora: Editing, Motion Graphics, and Color Grading Course Description: Learn professional video editing, motion graphics, and color grading using Filmora. Course Link: https://courze.org/master-filmora-editing-motion-graphics\n"
     ]
    }
   ],
   "source": [
    "data = loader.load()\n",
    "assert len(data) == 1\n",
    "assert isinstance(data[0], Document)\n",
    "readme_content = data[0].page_content\n",
    "print(readme_content[:250])\n"
   ]
  },
  {
   "cell_type": "code",
   "execution_count": 27,
   "id": "23c21e4d",
   "metadata": {},
   "outputs": [],
   "source": [
    "from langchain_text_splitters import RecursiveCharacterTextSplitter\n",
    "\n",
    "text_splitter = RecursiveCharacterTextSplitter(chunk_size = 1000, chunk_overlap = 200)\n",
    "splits = text_splitter.split_documents(data)\n"
   ]
  },
  {
   "cell_type": "code",
   "execution_count": 28,
   "id": "80aa37bb",
   "metadata": {},
   "outputs": [],
   "source": [
    "from langchain.embeddings import HuggingFaceEmbeddings\n",
    "from langchain.vectorstores import Chroma\n",
    "\n",
    "# Load a local embedding model from Hugging Face\n",
    "embeddings = HuggingFaceEmbeddings(model_name=\"sentence-transformers/all-MiniLM-L6-v2\")\n"
   ]
  },
  {
   "cell_type": "code",
   "execution_count": 29,
   "id": "08d9629c",
   "metadata": {},
   "outputs": [],
   "source": [
    "vectorstore = Chroma.from_documents(documents=splits, embedding=embeddings, persist_directory=persist_directory)\n"
   ]
  },
  {
   "cell_type": "code",
   "execution_count": 30,
   "id": "a746d6c3",
   "metadata": {},
   "outputs": [],
   "source": [
    "import glob\n",
    "from langchain_community.document_loaders import UnstructuredMarkdownLoader\n",
    "from langchain_core.documents import Document\n"
   ]
  },
  {
   "cell_type": "code",
   "execution_count": 31,
   "id": "733c79ed",
   "metadata": {},
   "outputs": [],
   "source": [
    "import os\n",
    "from dotenv import load_dotenv\n",
    "load_dotenv()\n",
    "from langchain_community.embeddings import HuggingFaceEmbeddings\n",
    "from langchain_community.vectorstores import Chroma\n",
    "from langchain_core.runnables import RunnablePassthrough\n",
    "from langchain.schema.output_parser import StrOutputParser\n",
    "from langchain.prompts import PromptTemplate"
   ]
  },
  {
   "cell_type": "code",
   "execution_count": 33,
   "id": "cd675224",
   "metadata": {},
   "outputs": [],
   "source": [
    "vectorstore = Chroma(\n",
    "    persist_directory=persist_directory,\n",
    "    embedding_function=embeddings\n",
    ")\n"
   ]
  },
  {
   "cell_type": "code",
   "execution_count": 34,
   "id": "0c995de3",
   "metadata": {},
   "outputs": [
    {
     "name": "stderr",
     "output_type": "stream",
     "text": [
      "c:\\Users\\rohan\\miniconda3\\envs\\LangchainRAG\\lib\\site-packages\\langsmith\\client.py:241: LangSmithMissingAPIKeyWarning: API key must be provided when using hosted LangSmith API\n",
      "  warnings.warn(\n"
     ]
    }
   ],
   "source": [
    "retriever = vectorstore.as_retriever()\n",
    "from langchain import hub\n",
    "prompt = hub.pull(\"rlm/rag-prompt\")   \n"
   ]
  },
  {
   "cell_type": "code",
   "execution_count": 36,
   "id": "c435c6da",
   "metadata": {},
   "outputs": [],
   "source": [
    "custom_template_str = \"\"\"You are an expert assistant helping users extract structured information about online courses from a knowledge base.\n",
    "\n",
    "Based on the context provided, extract information and return it in the following JSON format:\n",
    "\n",
    "Course {    \n",
    "  \"CourseName\" : String,\n",
    "  \"CourseDescrption\" : String,\n",
    "  \"CourseLink\" : String\n",
    "}\n",
    "1. Return response only in the JSON format shown above\n",
    "2. CourseDescription field should be only one sentence\n",
    "3. CourseLink should be a link to the course\n",
    "\n",
    "Context:\n",
    "{context}\n",
    "\n",
    "Question:\n",
    "{question}\n",
    "\"\"\"\n",
    "retformat = \"\"\"Based on the context provided, extract information and return as a JSON object only as described below! Do not add any notes or additional information in the response:\n",
    "Course {    \n",
    "  \"CourseName\" : String,\n",
    "  \"CourseDescrption\" : String,\n",
    "  \"CourseLink\" : String\n",
    "}\n",
    "\n",
    "\"\"\""
   ]
  },
  {
   "cell_type": "code",
   "execution_count": 37,
   "id": "46e8de6c",
   "metadata": {},
   "outputs": [],
   "source": [
    "def format_docs(docs):\n",
    "    return \"\\n\".join(doc.page_content for doc in docs)\n"
   ]
  },
  {
   "cell_type": "code",
   "execution_count": 38,
   "id": "b518f148",
   "metadata": {},
   "outputs": [],
   "source": [
    "from langchain.chat_models import ChatOpenAI\n",
    "\n",
    "api_key = os.environ.get('Groq_APIKey', None) \n",
    "\n",
    "llm = ChatOpenAI(\n",
    "    model=\"llama3-70b-8192\",  # or use \"llama3-70b-8192\"\n",
    "    openai_api_key=api_key,\n",
    "    openai_api_base=\"https://api.groq.com/openai/v1\"\n",
    ")\n"
   ]
  },
  {
   "cell_type": "code",
   "execution_count": 39,
   "id": "2a95f15e",
   "metadata": {},
   "outputs": [],
   "source": [
    "from langchain.chains import RetrievalQA\n",
    "from langchain.vectorstores import FAISS\n",
    "from langchain.embeddings import OpenAIEmbeddings\n",
    "\n",
    "retriever =vectorstore.as_retriever()\n",
    "\n",
    "rag_chain = RetrievalQA.from_chain_type(\n",
    "    llm=llm,\n",
    "    retriever=retriever,\n",
    "    chain_type_kwargs={\"prompt\": prompt},\n",
    "    return_source_documents=True\n",
    ")"
   ]
  },
  {
   "cell_type": "code",
   "execution_count": 40,
   "id": "884af659",
   "metadata": {},
   "outputs": [],
   "source": [
    "def call_rag(question):\n",
    "    response = rag_chain.invoke({\"query\": custom_template_str + question})\n",
    "    print('\\nResponse from RAG/LLM: \\n',response['result'])\n",
    "    # return(response['result'])\n",
    "    return ((response))"
   ]
  },
  {
   "cell_type": "code",
   "execution_count": 41,
   "id": "dedbd365",
   "metadata": {},
   "outputs": [
    {
     "name": "stdout",
     "output_type": "stream",
     "text": [
      "\n",
      "Response from RAG/LLM: \n",
      " {\n",
      "\"CourseName\" : \"Master Electron: Build Desktop Applications using JavaScript\",\n",
      "\"CourseDescrption\" : \"Build Desktop Applications using JavaScript\",\n",
      "\"CourseLink\" : \"https://courze.org/master-electron-build-desktop-applications-using-javascript/\"\n",
      "}\n"
     ]
    }
   ],
   "source": [
    "response=call_rag(\"Recommend course on Web Dev\")\n"
   ]
  }
 ],
 "metadata": {
  "kernelspec": {
   "display_name": "LangchainRAG",
   "language": "python",
   "name": "python3"
  },
  "language_info": {
   "codemirror_mode": {
    "name": "ipython",
    "version": 3
   },
   "file_extension": ".py",
   "mimetype": "text/x-python",
   "name": "python",
   "nbconvert_exporter": "python",
   "pygments_lexer": "ipython3",
   "version": "3.10.16"
  }
 },
 "nbformat": 4,
 "nbformat_minor": 5
}
